{
 "cells": [
  {
   "cell_type": "markdown",
   "id": "5d9077b7",
   "metadata": {},
   "source": [
    "https://geoservices.ign.fr/documentation/donnees/vecteur/bdtopo"
   ]
  },
  {
   "cell_type": "markdown",
   "id": "09b21a90",
   "metadata": {},
   "source": [
    "https://geoservices.ign.fr/bdortho"
   ]
  },
  {
   "cell_type": "markdown",
   "id": "fbc1dac2",
   "metadata": {},
   "source": [
    "## bdtopo"
   ]
  },
  {
   "cell_type": "code",
   "execution_count": null,
   "id": "4eca8967",
   "metadata": {},
   "outputs": [],
   "source": [
    "import rasterio\n",
    "import numpy as np\n",
    "import glob\n",
    "import plotly.express as px\n",
    "import plotly.graph_objs as go\n",
    "import cv2\n",
    "import pandas as pd\n",
    "import geopandas as gpd\n",
    "\n",
    "def load_tabfile(path):\n",
    "    with open(path, 'r') as f:\n",
    "        lines = f.readlines()\n",
    "\n",
    "    coords = []\n",
    "    for line in lines:\n",
    "        if '(' in line and ')' in line:\n",
    "            coord_str = line.split('(')[1].split(')')[0]\n",
    "            coords.append(tuple(map(float, coord_str.split(','))))\n",
    "\n",
    "    return rasterio.transform.from_bounds(*coords[0], *coords[2], len(coords[0]) // 2, len(coords) // 2)\n",
    "\n",
    "\n",
    "\n",
    "paths = glob.glob(r'BDORTHO\\1_DONNEES_LIVRAISON_2018-03-00388\\BDO_IRC_0M50_JP2-E080_UTM20W84GUAD_D977-2013\\*.jp2')\n",
    "\n",
    "def load_image(path):\n",
    "    with rasterio.open(path) as src:\n",
    "        value = np.transpose(src.read(), [1,2,0])\n",
    "        resolution = src.res\n",
    "        bounds = src.bounds\n",
    "    transfrom = load_tabfile(path[:-3]+\"tab\")\n",
    "    xrange = [bounds.left, bounds.right]\n",
    "    yrange = [bounds.bottom, bounds.top]\n",
    "    return value, xrange, yrange\n",
    "\n",
    "# Load image \n",
    "value, xrange, yrange = load_image(paths[5])"
   ]
  },
  {
   "cell_type": "code",
   "execution_count": null,
   "id": "feae4a8b",
   "metadata": {},
   "outputs": [],
   "source": [
    "value.max()"
   ]
  },
  {
   "cell_type": "code",
   "execution_count": null,
   "id": "0d367b99",
   "metadata": {},
   "outputs": [],
   "source": [
    "value.shape"
   ]
  },
  {
   "cell_type": "code",
   "execution_count": null,
   "id": "c2056993",
   "metadata": {},
   "outputs": [],
   "source": [
    "def normalize_band(band, lower_percentile=2, upper_percentile=98):\n",
    "    lower_value, upper_value = np.percentile(band, (lower_percentile, upper_percentile))\n",
    "    return np.clip((band - lower_value) / (upper_value - lower_value), 0, 1)\n",
    "\n",
    "value[...,0]=normalize_band(value[...,0])*255\n",
    "value[...,1]=normalize_band(value[...,1])*255\n",
    "value[...,2]=normalize_band(value[...,2])*255"
   ]
  },
  {
   "cell_type": "code",
   "execution_count": null,
   "id": "4061cf68",
   "metadata": {},
   "outputs": [],
   "source": [
    "value.max()"
   ]
  },
  {
   "cell_type": "code",
   "execution_count": null,
   "id": "8a34b84e",
   "metadata": {
    "scrolled": false
   },
   "outputs": [],
   "source": [
    "paths_shp =  glob.glob(r'BDTOPO\\1_DONNEES_LIVRAISON_2022-12-00159\\BDT_3-3_SHP_RGAF09UTM20_D977-ED2022-12-15\\*\\*.shp')\n",
    "\n",
    "def load_shp(path):\n",
    "    # Load data\n",
    "    bdtopo = gpd.read_file(path)\n",
    "    # Add Category and Type\n",
    "    bdtopo.insert(0, 'Category', path.split('\\\\')[-2])\n",
    "#     bdtopo['Category'] = path.split('\\\\')[-2]\n",
    "    bdtopo.insert(1, 'Type', path.split('\\\\')[-1][:-4])\n",
    "#     bdtopo['Type'] = path.split('\\\\')[-1][:-4]\n",
    "    return bdtopo\n",
    "\n",
    "bdtopo = load_shp(paths_shp[0])\n",
    "\n",
    "for path in paths_shp[1:]:\n",
    "    bdtopo = bdtopo.append(load_shp(path))\n",
    "\n",
    "bdtopo.reset_index(drop=True, inplace=True)\n",
    "bdtopo"
   ]
  },
  {
   "cell_type": "code",
   "execution_count": null,
   "id": "44af7748",
   "metadata": {},
   "outputs": [],
   "source": [
    "bdtopo.groupby(['Category','Type']).agg( count=('Type','count'), geometry=(\"geometry\", 'first'))"
   ]
  },
  {
   "cell_type": "markdown",
   "id": "8967f62a",
   "metadata": {},
   "source": [
    "## LINESTRING ou LINESTRING Z  --> Line ou poly"
   ]
  },
  {
   "cell_type": "code",
   "execution_count": null,
   "id": "74e55d52",
   "metadata": {},
   "outputs": [],
   "source": [
    "a = bdtopo.groupby(['Category','Type']).first()['geometry'][3]\n",
    "a.xy"
   ]
  },
  {
   "cell_type": "code",
   "execution_count": null,
   "id": "7a6da1e3",
   "metadata": {},
   "outputs": [],
   "source": [
    "a.wkt"
   ]
  },
  {
   "cell_type": "markdown",
   "id": "9d49f6ca",
   "metadata": {},
   "source": [
    "## POINT ou POINT Z --> Scatter"
   ]
  },
  {
   "cell_type": "code",
   "execution_count": null,
   "id": "15daa274",
   "metadata": {},
   "outputs": [],
   "source": [
    "a = bdtopo.groupby(['Category','Type']).first()['geometry'][-1]\n",
    "a.xy"
   ]
  },
  {
   "cell_type": "code",
   "execution_count": null,
   "id": "6e8137d4",
   "metadata": {
    "scrolled": true
   },
   "outputs": [],
   "source": [
    "bdtopo.isna().mean()"
   ]
  },
  {
   "cell_type": "code",
   "execution_count": null,
   "id": "58d197ac",
   "metadata": {},
   "outputs": [],
   "source": [
    "bdtopo.isna().mean()['geometry']"
   ]
  },
  {
   "cell_type": "code",
   "execution_count": null,
   "id": "d4d3f318",
   "metadata": {},
   "outputs": [],
   "source": [
    "bdtopo.Type.value_counts().plot.bar()"
   ]
  },
  {
   "cell_type": "code",
   "execution_count": null,
   "id": "5a3e90e0",
   "metadata": {
    "scrolled": false
   },
   "outputs": [],
   "source": [
    "import geopandas as gpd\n",
    "\n",
    "\n",
    "map_size = [5000,5000]\n",
    "\n",
    "\n",
    "def isInMap(xrange, yrange):\n",
    "    def my_function(polynom):\n",
    "        x, y = polynom.centroid.x, polynom.centroid.y\n",
    "        if xrange[0]<x and xrange[1]>x and yrange[0]<y and yrange[1]>y:\n",
    "            return True\n",
    "        else :\n",
    "            return False\n",
    "        \n",
    "    return my_function\n",
    "\n",
    "\n",
    "\n",
    "\n",
    "def convert_centroid(map_size, xrange, yrange):\n",
    "    def my_function(polygon):\n",
    "        x, y = polygon.centroid.x, polygon.centroid.y\n",
    "        x_new = (x - xrange[0])/(xrange[1]-xrange[0])*map_size[0]\n",
    "        y_new = map_size[1] - (y - yrange[0])/(yrange[1]-yrange[0])*map_size[1]\n",
    "        return [x_new, y_new]\n",
    "    \n",
    "    return my_function\n",
    "\n",
    "\n",
    "def convert_polygon(map_size, xrange, yrange):\n",
    "    def my_function(polygon):\n",
    "        if polygon.wkt.lower()[:7]==\"polygon\":\n",
    "            x, y = polygon.exterior.coords.xy\n",
    "            x = x.tolist()\n",
    "            y = y.tolist()\n",
    "        elif polygon.wkt[:10]==\"LINESTRING\":\n",
    "            x, y = polygon.coords.xy\n",
    "            x = x.tolist()\n",
    "            x += x[::-1]\n",
    "            y = y.tolist()\n",
    "            y += y[::-1]\n",
    "        \n",
    "        else :\n",
    "            x = [1,2]\n",
    "            y = [1,2]\n",
    "        x = np.array(x)\n",
    "        y = np.array(y) \n",
    "        x_new = (x - xrange[0])/(xrange[1]-xrange[0])*map_size[0]\n",
    "        y_new = map_size[1] - (y - yrange[0])/(yrange[1]-yrange[0])*map_size[1]\n",
    "        return [x_new, y_new]\n",
    "    \n",
    "    return my_function\n",
    "\n",
    "def generate_xy_polygons(bdtopo_area):\n",
    "\n",
    "    list_x = []\n",
    "    for xpoly in bdtopo_area['xpolygon']:\n",
    "        list_x.extend(xpoly.tolist() + [None])\n",
    "    list_x = list_x[:-1]\n",
    "    \n",
    "    list_y = []\n",
    "    for ypoly in bdtopo_area['ypolygon']:\n",
    "        ypoly = map_size[1]-ypoly\n",
    "        list_y.extend(ypoly.tolist() + [None])\n",
    "    list_y = list_y[:-1]\n",
    "    \n",
    "    return list_x, list_y\n",
    "\n",
    "def generate_x_polygons(xdata):\n",
    "    list_x = []\n",
    "    for xpoly in xdata:\n",
    "        list_x.extend(xpoly.tolist() + [None])\n",
    "    list_x = list_x[:-1]\n",
    "    \n",
    "    return list_x\n",
    "\n",
    "\n",
    "bdtopo_zone = bdtopo[bdtopo['geometry'].apply(isInMap(xrange, yrange))].copy()\n",
    "print('Avant :', bdtopo.shape, 'Après :', bdtopo_zone.shape)\n",
    "\n",
    "bdtopo_zone['centroid'] = bdtopo_zone['geometry'].apply(convert_centroid(map_size, xrange, yrange))\n",
    "bdtopo_zone['xcentroid'] = bdtopo_zone['centroid'].apply(lambda x : x[0])\n",
    "bdtopo_zone['ycentroid'] = bdtopo_zone['centroid'].apply(lambda x : x[1])\n",
    "\n",
    "\n",
    "bdtopo_point = bdtopo_zone[bdtopo['geometry'].apply(lambda x : x.wkt.lower()[:5]==\"point\")]\n",
    "\n",
    "bdtopo_zone = bdtopo_zone[bdtopo_zone['geometry'].apply(lambda x : x.wkt.lower()[:7]==\"polygon\" or x.wkt[:10]==\"LINESTRING\")]\n",
    "\n",
    "\n",
    "bdtopo_zone['polygon'] = bdtopo_zone['geometry'].apply(convert_polygon(map_size, xrange, yrange))\n",
    "bdtopo_zone['xpolygon'] = bdtopo_zone['polygon'].apply(lambda x : x[0])\n",
    "bdtopo_zone['ypolygon'] = bdtopo_zone['polygon'].apply(lambda x : x[1])\n",
    "\n",
    "bdtopo_zone.head()"
   ]
  },
  {
   "cell_type": "code",
   "execution_count": null,
   "id": "f3b6ad6a",
   "metadata": {},
   "outputs": [],
   "source": [
    "bdtopo_zone_agregate = bdtopo_zone.groupby('Type').agg({'xpolygon':list, 'ypolygon':list})\n",
    "\n",
    "bdtopo_zone_agregate['xpolygon_ready'] = bdtopo_zone_agregate['xpolygon'].apply(generate_x_polygons)\n",
    "bdtopo_zone_agregate['ypolygon_ready'] = bdtopo_zone_agregate['ypolygon'].apply(generate_x_polygons)\n",
    "bdtopo_zone_agregate"
   ]
  },
  {
   "cell_type": "code",
   "execution_count": null,
   "id": "03ae5784",
   "metadata": {},
   "outputs": [],
   "source": [
    "bdtopo_point_agregate = bdtopo_point.groupby('Type').agg({'xcentroid':list, 'ycentroid':list})\n",
    "\n",
    "bdtopo_point_agregate"
   ]
  },
  {
   "cell_type": "code",
   "execution_count": null,
   "id": "2c58e4b7",
   "metadata": {},
   "outputs": [],
   "source": [
    "def show_map(value, scatters_data, scatters_list_name, points_data, points_list_name):\n",
    "    image = px.imshow(cv2.resize(value, (5000,5000)))\n",
    "    \n",
    "    points = []\n",
    "    \n",
    "    for i, (list_x, list_y) in enumerate(scatters_data):\n",
    "        # Ajouter des points\n",
    "        point = go.Scatter(\n",
    "            x=list_x,\n",
    "            y=list_y,\n",
    "            fill=\"toself\",\n",
    "            name=scatters_list_name[i],\n",
    "        #     fillcolor=\"blue\"\n",
    "\n",
    "        )\n",
    "        points.append(point)\n",
    "        \n",
    "    for i, (list_x, list_y) in enumerate(points_data):\n",
    "        # Ajouter des points\n",
    "        point = go.Scatter(\n",
    "            x=list_x,\n",
    "            y=list_y,\n",
    "            mode='markers',\n",
    "            marker=dict( size=5),\n",
    "            name=points_list_name[i]\n",
    "        )\n",
    "        points.append(point)\n",
    "\n",
    "    # Créer la figure\n",
    "    fig = go.Figure(data=[image.data[0]]+points)\n",
    "    \n",
    "    fig.update_xaxes(range=[0,5000])\n",
    "    fig.update_yaxes(range=[0,5000])\n",
    "    \n",
    "    fig.update_layout(\n",
    "        autosize=False,\n",
    "        width=1000,\n",
    "        height=800,)\n",
    "\n",
    "    # Afficher la figure\n",
    "    fig.show()\n",
    "\n",
    "    \n",
    "\n",
    "show_map(value, bdtopo_zone_agregate[['xpolygon_ready', 'ypolygon_ready']].values, bdtopo_zone_agregate.index, bdtopo_point_agregate[['xcentroid', 'ycentroid']].values, bdtopo_point_agregate.index)"
   ]
  },
  {
   "cell_type": "code",
   "execution_count": null,
   "id": "6ce4000f",
   "metadata": {},
   "outputs": [],
   "source": [
    "data_mask = [list(zip(bdtopo_zone_agregate['xpolygon']['BATIMENT'][i], bdtopo_zone_agregate['ypolygon']['BATIMENT'][i])) for i in range(len(bdtopo_zone_agregate['xpolygon']['BATIMENT'])) ]"
   ]
  },
  {
   "cell_type": "code",
   "execution_count": null,
   "id": "5f58d768",
   "metadata": {},
   "outputs": [],
   "source": [
    "import numpy\n",
    "from PIL import Image, ImageDraw\n",
    "width, height = 5000,5000\n",
    "# polygon = [(x1,y1),(x2,y2),...] or [x1,y1,x2,y2,...]\n",
    "\n",
    "img = Image.new('L', (width, height), 0)\n",
    "for p in data_mask :\n",
    "    ImageDraw.Draw(img).polygon(p, outline=1, fill=1)\n",
    "\n",
    "mask = numpy.array(img)"
   ]
  },
  {
   "cell_type": "code",
   "execution_count": null,
   "id": "2c0a4427",
   "metadata": {},
   "outputs": [],
   "source": [
    "px.imshow(cv2.resize(mask, (5000,5000)))\n",
    "# plt.imshow(mask)"
   ]
  },
  {
   "cell_type": "code",
   "execution_count": null,
   "id": "88fdf7b4",
   "metadata": {},
   "outputs": [],
   "source": [
    "import matplotlib.pyplot as plt\n",
    "plt.figure(figsize=[20,20])\n",
    "plt.imshow(value)"
   ]
  },
  {
   "cell_type": "code",
   "execution_count": null,
   "id": "993bf09a",
   "metadata": {},
   "outputs": [],
   "source": [
    "import matplotlib.pyplot as plt\n",
    "plt.figure(figsize=[20,20])\n",
    "plt.imshow(mask)"
   ]
  }
 ],
 "metadata": {
  "kernelspec": {
   "display_name": "Python 3",
   "language": "python",
   "name": "python3"
  },
  "language_info": {
   "codemirror_mode": {
    "name": "ipython",
    "version": 3
   },
   "file_extension": ".py",
   "mimetype": "text/x-python",
   "name": "python",
   "nbconvert_exporter": "python",
   "pygments_lexer": "ipython3",
   "version": "3.9.7"
  }
 },
 "nbformat": 4,
 "nbformat_minor": 5
}
