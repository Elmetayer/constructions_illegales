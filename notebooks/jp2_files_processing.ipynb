{
 "cells": [
  {
   "cell_type": "code",
   "execution_count": 5,
   "metadata": {},
   "outputs": [],
   "source": [
    "import rasterio\n",
    "from PIL import Image\n",
    "import io\n",
    "from functools import partial\n",
    "import numpy as np\n",
    "from rasterio.io import MemoryFile\n"
   ]
  },
  {
   "cell_type": "code",
   "execution_count": 2,
   "metadata": {},
   "outputs": [],
   "source": [
    "img_file = './../../juil23_cds_construction_illegale/data/dept_69/BDORTHO/1_DONNEES_LIVRAISON_2021-03-00176/OHR_RVB_0M20_JP2-E080_LAMB93_D69-2020/69-2020-0795-6545-LA93-0M20-E080.jp2'\n",
    "img_data = rasterio.open(img_file).read()"
   ]
  },
  {
   "cell_type": "code",
   "execution_count": 7,
   "metadata": {},
   "outputs": [],
   "source": [
    "with open(img_file, 'rb') as file:\n",
    "     with MemoryFile(file, 1000, 1000) as memfile:\n",
    "            with memfile.open() as dataset:\n",
    "                img_array = dataset.read()"
   ]
  },
  {
   "cell_type": "code",
   "execution_count": null,
   "metadata": {},
   "outputs": [],
   "source": [
    "display_data = np.transpose(img_array, [1,2,0])\n",
    "img = Image.fromarray(display_data)\n",
    "img.show()"
   ]
  },
  {
   "cell_type": "code",
   "execution_count": 3,
   "metadata": {},
   "outputs": [],
   "source": [
    "\n",
    "CHUNK_SIZE = 1024\n",
    "bytes_arr = bytearray()\n",
    "\n",
    "with open(img_file, 'rb') as file:\n",
    "    for chunk in iter(partial(file.read, CHUNK_SIZE), b''):\n",
    "        bytes_arr.extend(chunk)\n",
    "\n",
    "bytes_string = bytes(bytes_arr)"
   ]
  },
  {
   "cell_type": "code",
   "execution_count": 11,
   "metadata": {},
   "outputs": [
    {
     "data": {
      "text/plain": [
       "b'\\x00\\x00\\x00\\x0cj'"
      ]
     },
     "execution_count": 11,
     "metadata": {},
     "output_type": "execute_result"
    }
   ],
   "source": [
    "bytes_string[:5]"
   ]
  },
  {
   "cell_type": "code",
   "execution_count": 5,
   "metadata": {},
   "outputs": [],
   "source": [
    "with open(img_file, 'rb') as file:\n",
    "    b = io.BytesIO(file.read())"
   ]
  },
  {
   "cell_type": "code",
   "execution_count": null,
   "metadata": {},
   "outputs": [],
   "source": [
    "buffer = b.getbuffer()\n",
    "bytes_arr = bytearray()\n",
    "for byte in buffer:\n",
    "    bytes_arr.extend(byte)\n"
   ]
  },
  {
   "cell_type": "code",
   "execution_count": 21,
   "metadata": {},
   "outputs": [],
   "source": [
    "f = open(img_file, 'rb')\n",
    "  \n",
    "byte_read = read_chunks(f, 1024)"
   ]
  },
  {
   "cell_type": "code",
   "execution_count": 22,
   "metadata": {},
   "outputs": [
    {
     "data": {
      "text/plain": [
       "92170"
      ]
     },
     "execution_count": 22,
     "metadata": {},
     "output_type": "execute_result"
    }
   ],
   "source": [
    "sum(1 for _ in byte_read)"
   ]
  },
  {
   "cell_type": "code",
   "execution_count": null,
   "metadata": {},
   "outputs": [],
   "source": []
  }
 ],
 "metadata": {
  "kernelspec": {
   "display_name": ".venv",
   "language": "python",
   "name": "python3"
  },
  "language_info": {
   "codemirror_mode": {
    "name": "ipython",
    "version": 3
   },
   "file_extension": ".py",
   "mimetype": "text/x-python",
   "name": "python",
   "nbconvert_exporter": "python",
   "pygments_lexer": "ipython3",
   "version": "3.8.9"
  }
 },
 "nbformat": 4,
 "nbformat_minor": 2
}
